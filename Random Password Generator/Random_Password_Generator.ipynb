{
 "cells": [
  {
   "cell_type": "markdown",
   "id": "621d3493",
   "metadata": {},
   "source": [
    "# Library Needed"
   ]
  },
  {
   "cell_type": "code",
   "execution_count": 1,
   "id": "5f366912",
   "metadata": {},
   "outputs": [],
   "source": [
    "import random\n",
    "import string\n",
    "import tkinter as tk\n",
    "from tkinter import messagebox"
   ]
  },
  {
   "cell_type": "markdown",
   "id": "89fde415",
   "metadata": {},
   "source": [
    "# Function to generate a password based on user preferences"
   ]
  },
  {
   "cell_type": "code",
   "execution_count": 2,
   "id": "5525fa05",
   "metadata": {},
   "outputs": [],
   "source": [
    "def generate_password(length, include_uppercase, include_lowercase, include_numbers, include_symbols):\n",
    "    characters = \"\"\n",
    "    \n",
    "    if include_lowercase:\n",
    "        characters += string.ascii_lowercase\n",
    "    if include_uppercase:\n",
    "        characters += string.ascii_uppercase\n",
    "    if include_numbers:\n",
    "        characters += string.digits\n",
    "    if include_symbols:\n",
    "        characters += string.punctuation\n",
    "\n",
    "    if length < 1 or not characters:\n",
    "        return \"Password length must be at least 1 and at least one character type must be selected.\"\n",
    "\n",
    "    password = ''.join(random.choice(characters) for _ in range(length))\n",
    "    return password\n"
   ]
  },
  {
   "cell_type": "markdown",
   "id": "7e1edde0",
   "metadata": {},
   "source": [
    "# Command-Line Password Generator"
   ]
  },
  {
   "cell_type": "code",
   "execution_count": 3,
   "id": "75daad2b",
   "metadata": {},
   "outputs": [],
   "source": [
    "def command_line_password_generator():\n",
    "    print(\"Welcome to the Random Password Generator!\")\n",
    "    length = int(input(\"Enter the desired password length: \"))\n",
    "    include_lowercase = input(\"Include lowercase letters? (yes/no): \").strip().lower() == 'yes'\n",
    "    include_uppercase = input(\"Include uppercase letters? (yes/no): \").strip().lower() == 'yes'\n",
    "    include_numbers = input(\"Include numbers? (yes/no): \").strip().lower() == 'yes'\n",
    "    include_symbols = input(\"Include symbols? (yes/no): \").strip().lower() == 'yes'\n",
    "    \n",
    "    password = generate_password(length, include_uppercase, include_lowercase, include_numbers, include_symbols)\n",
    "    print(f\"Generated Password: {password}\")\n"
   ]
  },
  {
   "cell_type": "markdown",
   "id": "5fc95fda",
   "metadata": {},
   "source": [
    "# GUI-Based Password Generator with Tkinter"
   ]
  },
  {
   "cell_type": "code",
   "execution_count": 5,
   "id": "2da3ea9a",
   "metadata": {},
   "outputs": [
    {
     "name": "stdout",
     "output_type": "stream",
     "text": [
      "Choose the mode (1 for Command-Line, 2 for GUI): 1\n",
      "Welcome to the Random Password Generator!\n",
      "Enter the desired password length: 14\n",
      "Include lowercase letters? (yes/no): yes\n",
      "Include uppercase letters? (yes/no): yes\n",
      "Include numbers? (yes/no): yes\n",
      "Include symbols? (yes/no): yes\n",
      "Generated Password: !kDV4bK~R/_PvR\n"
     ]
    }
   ],
   "source": [
    "class PasswordGeneratorApp:\n",
    "    def __init__(self, root):\n",
    "        self.root = root\n",
    "        self.root.title(\"Password Generator\")\n",
    "        \n",
    "        # Create UI components\n",
    "        self.create_widgets()\n",
    "\n",
    "    def create_widgets(self):\n",
    "        # Length\n",
    "        tk.Label(self.root, text=\"Password Length:\").grid(row=0, column=0, padx=10, pady=5)\n",
    "        self.length_var = tk.IntVar(value=12)\n",
    "        tk.Entry(self.root, textvariable=self.length_var).grid(row=0, column=1, padx=10, pady=5)\n",
    "\n",
    "        # Checkboxes\n",
    "        self.lowercase_var = tk.BooleanVar(value=True)\n",
    "        tk.Checkbutton(self.root, text=\"Include Lowercase Letters\", variable=self.lowercase_var).grid(row=1, columnspan=2, padx=10, pady=5)\n",
    "\n",
    "        self.uppercase_var = tk.BooleanVar(value=True)\n",
    "        tk.Checkbutton(self.root, text=\"Include Uppercase Letters\", variable=self.uppercase_var).grid(row=2, columnspan=2, padx=10, pady=5)\n",
    "\n",
    "        self.numbers_var = tk.BooleanVar(value=True)\n",
    "        tk.Checkbutton(self.root, text=\"Include Numbers\", variable=self.numbers_var).grid(row=3, columnspan=2, padx=10, pady=5)\n",
    "\n",
    "        self.symbols_var = tk.BooleanVar(value=True)\n",
    "        tk.Checkbutton(self.root, text=\"Include Symbols\", variable=self.symbols_var).grid(row=4, columnspan=2, padx=10, pady=5)\n",
    "\n",
    "        # Generate Button\n",
    "        tk.Button(self.root, text=\"Generate Password\", command=self.generate_password).grid(row=5, columnspan=2, padx=10, pady=10)\n",
    "\n",
    "        # Output\n",
    "        self.result_var = tk.StringVar()\n",
    "        tk.Entry(self.root, textvariable=self.result_var, width=50).grid(row=6, columnspan=2, padx=10, pady=5)\n",
    "\n",
    "        # Copy to Clipboard Button\n",
    "        tk.Button(self.root, text=\"Copy to Clipboard\", command=self.copy_to_clipboard).grid(row=7, columnspan=2, padx=10, pady=10)\n",
    "\n",
    "    def generate_password(self):\n",
    "        length = self.length_var.get()\n",
    "        include_lowercase = self.lowercase_var.get()\n",
    "        include_uppercase = self.uppercase_var.get()\n",
    "        include_numbers = self.numbers_var.get()\n",
    "        include_symbols = self.symbols_var.get()\n",
    "\n",
    "        password = generate_password(length, include_uppercase, include_lowercase, include_numbers, include_symbols)\n",
    "        \n",
    "        if \"Password length must be at least 1\" in password:\n",
    "            messagebox.showerror(\"Error\", password)\n",
    "            return\n",
    "\n",
    "        self.result_var.set(password)\n",
    "\n",
    "    def copy_to_clipboard(self):\n",
    "        password = self.result_var.get()\n",
    "        if password:\n",
    "            self.root.clipboard_clear()\n",
    "            self.root.clipboard_append(password)\n",
    "            messagebox.showinfo(\"Success\", \"Password copied to clipboard!\")\n",
    "\n",
    "if __name__ == \"__main__\":\n",
    "    choice = input(\"Choose the mode (1 for Command-Line, 2 for GUI): \").strip()\n",
    "\n",
    "    if choice == '1':\n",
    "        command_line_password_generator()\n",
    "    elif choice == '2':\n",
    "        root = tk.Tk()\n",
    "        app = PasswordGeneratorApp(root)\n",
    "        root.mainloop()\n",
    "    else:\n",
    "        print(\"Invalid choice. Please select 1 for Command-Line or 2 for GUI.\")\n"
   ]
  },
  {
   "cell_type": "code",
   "execution_count": null,
   "id": "657a2940",
   "metadata": {},
   "outputs": [],
   "source": []
  }
 ],
 "metadata": {
  "kernelspec": {
   "display_name": "Python 3 (ipykernel)",
   "language": "python",
   "name": "python3"
  },
  "language_info": {
   "codemirror_mode": {
    "name": "ipython",
    "version": 3
   },
   "file_extension": ".py",
   "mimetype": "text/x-python",
   "name": "python",
   "nbconvert_exporter": "python",
   "pygments_lexer": "ipython3",
   "version": "3.9.13"
  }
 },
 "nbformat": 4,
 "nbformat_minor": 5
}
